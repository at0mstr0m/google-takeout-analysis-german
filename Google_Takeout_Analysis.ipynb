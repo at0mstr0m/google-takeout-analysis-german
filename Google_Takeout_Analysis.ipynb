{
  "nbformat": 4,
  "nbformat_minor": 0,
  "metadata": {
    "colab": {
      "name": "Google Takeout Analysis.ipynb",
      "provenance": [],
      "collapsed_sections": []
    },
    "kernelspec": {
      "name": "python3",
      "display_name": "Python 3"
    },
    "language_info": {
      "name": "python"
    }
  },
  "cells": [
    {
      "cell_type": "markdown",
      "metadata": {
        "id": "Rgqkm_8rmNlf"
      },
      "source": [
        "# 1. Eigene Daten herunterladen und in Google Colab nutzen\n",
        "\n",
        "1.   Mit Google Account bei [Google Takeout](https://takeout.google.com/) einloggen.\n",
        "2.   Als Sprache muss Deutsch eingestellt sein. Wie man die Sprache ändert ist [hier](https://support.google.com/accounts/answer/32047) erklärt.\n",
        "3.   Auf \"**Auswahl aufheben**\" klicken, denn relevant werden hier nur die Aktivitäten aus der Google Suche sein.\n",
        "4.   Haken setzen bei \"**Meine Aktivitäten**\"\n",
        "5.   Auf \"**Alle Aktivitätsdaten eingeschlossen**\" klicken\n",
        "6.   Im aufgehenden Fenster \"Optionen für Inhalte in \"Meine Aktivitäten\"\" auf \"**Auswahl aufheben**\" klicken, dann Haken bei \"**Android**\" und \"**Google Suche**\" setzen und unten rechts mit \"**OK**\" bestätigen.\n",
        "7.   Ans Seitenende scrollen, auf \"**Nächster Schritt**\" klicken und dann auf \"**Export erstellen**\" klicken.\n",
        "8.   Warten bis der Datenexport von Google erstellt wurde.\n",
        "9.   Datenexport [hier](https://takeout.google.com/settings/takeout/downloads) herunterladen. Der Dateiname ist ungefär `takeout-20xxxxxxxxxxxxxx-001.zip`.\n",
        "10.  ZIP-Datei öffnen. In `takeout-20xxxxxxxxxxxxxx-001.zip\\Takeout\\Meine Aktivitäten\\Google Suche\\` die Datei `MeineAktivitäten.html` lokalisieren, entpacken und umbenennen in `Suche.html`. In `takeout-20xxxxxxxxxxxxxx-001.zip\\Takeout\\Meine Aktivitäten\\Android\\` die Datei `MeineAktivitäten.html` lokalisieren, entpacken und umbenennen in `Android.html`. \n",
        "11. Die beiden html-Dateien dann entweder (A) in hiesigen Sitzungsspeicher von Google Colab hochladen oder ins eigene Google Drive hochladen und Google Drive bereitstellen (B). Siehe Screenshot dazu:\n",
        "\n",
        "\n",
        "![image.png](data:image/png;base64,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)\n",
        "\n",
        "12.  Warten, bis der Upload abgeschlossen ist.\n",
        "13.  Notebook ausführen (Alles auf einmal ausführen lassen, am einfachsten mit `STRG + F9`)"
      ]
    },
    {
      "cell_type": "markdown",
      "metadata": {
        "id": "Ghdt1gtXnAFR"
      },
      "source": [
        "# 2. Aktivitäten der Google Suche einlesen und aufbereiten\n",
        "Alle Suchaktivitäten werden zunächst in Listen akkumuliert und dann in Pandas.DataFrame umgewandelt zur weiteren Verarbeitung.\n",
        "\n",
        "**all_activities** enthält alle Aktivitäten\n",
        "\n",
        "**searches** enthält alle gesuchten Suchbegriffe\n",
        "\n",
        "**result_fetches** enthält alle Suchergebnisse, die angeklickt wurden\n",
        "\n",
        "**viewed** enthält angesehene Orte\n",
        "\n",
        "**definitions** enthält alle definierten Begriffe\n",
        "\n",
        "Leider hat Google Bezeichnungen erst im Laufe der Jahre eingeführt oder zuordnungen geändert, weshalb in der Zuordnung Fehler auftreten können. Es hat sich beim Testen herausgestellt, dass ein DataFrame auch komplett leer bleiben kann..."
      ]
    },
    {
      "cell_type": "code",
      "metadata": {
        "id": "0uz-X657bLqk"
      },
      "source": [
        "import sys\n",
        "import re\n",
        "from datetime import datetime\n",
        "import pandas as pd\n",
        "import matplotlib.pyplot as plt\n",
        "import seaborn as sns\n",
        "import random\n",
        "from sklearn.model_selection import train_test_split\n",
        "from sklearn import neighbors\n",
        "from sklearn.metrics import accuracy_score\n",
        "\n",
        "\n",
        "files_loaded = False\n",
        "\n",
        "try:\n",
        "    search_html_file = open(\"/content/drive/MyDrive/Suche.html\", encoding=\"utf8\")\n",
        "    android_html_file = open(\"/content/drive/MyDrive/Android.html\", encoding=\"utf8\")\n",
        "    print(\"Die erforderlichen html-Dateien wurden in Google Drive gefunden und geladen.\")\n",
        "    files_loaded = True\n",
        "except:\n",
        "    print(\"Die erforderlichen html-Dateien befinden sich nicht in Google Drive oder sind falsch benannt.\")\n",
        "    print(\"Versuche nach Dateien im Laufzeitspeicher zu suchen...\")\n",
        "try:\n",
        "    if not files_loaded:\n",
        "        search_html_file = open(\"/content/Suche.html\", encoding=\"utf8\")\n",
        "        android_html_file = open(\"/content/Android.html\", encoding=\"utf8\")\n",
        "        print(\"Die erforderlichen html-Dateien wurden im Laufzeitspeicher gefunden und geladen.\")\n",
        "        files_loaded = True\n",
        "except:\n",
        "    print(\"Die erforderlichen html-Dateien befinden sich nicht korrekt hochgeladen oder sind falsch benannt.\")\n",
        " \n",
        "if not files_loaded:\n",
        "    print('Die erforderlichen html-Dateien wurden nicht in Google Drive oder im Laufzeitspeicher gefunden.')\n",
        "    sys.exit()"
      ],
      "execution_count": null,
      "outputs": []
    },
    {
      "cell_type": "markdown",
      "metadata": {
        "id": "BcogadbSbZMn"
      },
      "source": [
        "Wenn die html-Dateien mit den Aktivitäten gefunden und geladen wurden, kann das Analysieren beginnen."
      ]
    },
    {
      "cell_type": "code",
      "metadata": {
        "id": "aus9X_iBohTN"
      },
      "source": [
        "strings_to_remove = ['<div class=\"outer-cell mdl-cell mdl-cell--12-col mdl-shadow--2dp\"><div class=\"mdl-grid\"><div class=\"header-cell mdl-cell mdl-cell--12-col\"><p class=\"mdl-typography--title\">Google Suche<br></p></div><div class=\"content-cell mdl-cell mdl-cell--6-col mdl-typography--body-1\">',\n",
        "                     '<div class=\"content-cell mdl-cell mdl-cell--6-col mdl-typography--body-1 mdl-typography--text-right\"></div><div class=\"content-cell mdl-cell mdl-cell--12-col mdl-typography--caption\">',\n",
        "                     '<b>Produkte:</b><br>&emsp;Google Suche',\n",
        "                     '</div>',\n",
        "                     '</a>',\n",
        "                     '<br>',\n",
        "                     '<b>',\n",
        "                     '</b>',\n",
        "                     '<div class=\"outer-cell mdl-cell mdl-cell--12-col mdl-shadow--2dp\"><div class=\"mdl-grid\"><div class=\"header-cell mdl-cell mdl-cell--12-col\"><p class=\"mdl-typography--title\">',\n",
        "                     '<br></p></div><div class=\"content-cell mdl-cell mdl-cell--6-col mdl-typography--body-1\">',\n",
        "                     '</div><div class=\"content-cell mdl-cell mdl-cell--6-col mdl-typography--body-1 mdl-typography--text-right\"></div><div class=\"content-cell mdl-cell mdl-cell--12-col mdl-typography--caption\">Produkte:&emsp;Android</div></div></div>']\n",
        "\n",
        "link_pattern = re.compile('<(.*?)>')\n",
        "search_term_pattern = re.compile('.+?(?=\\sgesucht(0[1-9]|[12][0-9]|3[01])\\.(0[1-9]|1[012])\\.20[0-2][0-9]\\,)')\n",
        "result_fetch_term_pattern = re.compile('.+?(?=\\saufgerufen(0[1-9]|[12][0-9]|3[01])\\.(0[1-9]|1[012])\\.20[0-2][0-9]\\,)')\n",
        "viewed_term_pattern = re.compile('.+?(?=\\sangesehen(0[1-9]|[12][0-9]|3[01])\\.(0[1-9]|1[012])\\.20[0-2][0-9]\\,)')\n",
        "definition_term_pattern = re.compile('.+?(?=(0[1-9]|[12][0-9]|3[01])\\.(0[1-9]|1[012])\\.20[0-2][0-9]\\,)')\n",
        "time_format = '%d.%m.%Y, %H:%M:%S'\n",
        "all_activities = []\n",
        "searches = []\n",
        "result_fetches = []\n",
        "viewed = []\n",
        "definitions = []\n",
        "\n",
        "with search_html_file as file:\n",
        "    raw_data = file.read().replace('\\n', '').split(strings_to_remove[0])\n",
        "\n",
        "for i, e in enumerate(raw_data):\n",
        "    raw_data[i] = raw_data[i]\\\n",
        "        .replace(strings_to_remove[1], '')\\\n",
        "        .replace(strings_to_remove[2], '')\\\n",
        "        .replace(strings_to_remove[3], '')\\\n",
        "        .replace(strings_to_remove[4], '')\\\n",
        "        .replace(strings_to_remove[5], '')\\\n",
        "        .replace(strings_to_remove[6], '')\\\n",
        "        .replace(strings_to_remove[7], '')\n",
        "    if raw_data[i][:4] == 'Nach':                                               # handle search terms\n",
        "        raw_data[i] = re.sub(link_pattern, '', raw_data[i][5:])                 # remove link\n",
        "        search_term = re.search(search_term_pattern, raw_data[i])[0]\n",
        "        if 'site:imdb.de' in search_term[-12:]:                                 # exclude searches from stupid browser extension\n",
        "            continue\n",
        "        length = len(search_term) + 8                                           # 8 because len(' gesucht') == 8\n",
        "        raw_data[i] = raw_data[i][length:]                                      # remove search_term from string\n",
        "        timestamp_str = raw_data[i][:20]                                        # extract timestamp as string\n",
        "        timestamp = datetime.strptime(timestamp_str, time_format)               # save timestamp as timedate object\n",
        "        searches.append([search_term, timestamp.year, timestamp.month, timestamp.day, timestamp.hour, timestamp.minute, timestamp.second, timestamp.weekday()])                               # save search result & timestamp to list\n",
        "        all_activities.append([search_term, timestamp.year, timestamp.month, timestamp.day, timestamp.hour, timestamp.minute, timestamp.second, timestamp.weekday()])                         # save search result & timestamp to list\n",
        "    if raw_data[i][:9] == 'Definiert':                                          # handle definitions\n",
        "        raw_data[i] = re.sub(link_pattern, '', raw_data[i][10:])\n",
        "        definition_term = re.search(definition_term_pattern, raw_data[i])[0]\n",
        "        raw_data[i] = raw_data[i][len(definition_term):]\n",
        "        timestamp_str = raw_data[i][:20]\n",
        "        timestamp = datetime.strptime(timestamp_str, time_format)\n",
        "        definitions.append([definition_term, timestamp.year, timestamp.month, timestamp.day, timestamp.hour, timestamp.minute, timestamp.second, timestamp.weekday()])\n",
        "        all_activities.append([definition_term, timestamp.year, timestamp.month, timestamp.day, timestamp.hour, timestamp.minute, timestamp.second, timestamp.weekday()])\n",
        "    if raw_data[i][:9] == '<a href=\"':                                          # handle result_fetches\n",
        "        raw_data[i] = re.sub(link_pattern, '', raw_data[i])                     # remove link\n",
        "        if raw_data[i][:16] == 'Überwachter Flug':                              # exclude flights\n",
        "            continue\n",
        "        if raw_data[i][:17] == 'Aufgerufene Flüge':\n",
        "            continue\n",
        "        try:\n",
        "            result_fetch = re.search(result_fetch_term_pattern, raw_data[i])[0]\n",
        "            length = len(result_fetch) + 11                                     # 11 because len(' aufgerufen') == 11\n",
        "            raw_data[i] = raw_data[i][length:]                                  # remove search_term from string\n",
        "            timestamp_str = raw_data[i][:20]                                    # extract timestamp as string\n",
        "            timestamp = datetime.strptime(timestamp_str, '%d.%m.%Y, %H:%M:%S')  # save timestamp as timedate object\n",
        "            result_fetches.append([result_fetch, timestamp.year, timestamp.month, timestamp.day, timestamp.hour, timestamp.minute, timestamp.second, timestamp.weekday()])                    # save result_fetch & timestamp to list\n",
        "            all_activities.append([result_fetch, timestamp.year, timestamp.month, timestamp.day, timestamp.hour, timestamp.minute, timestamp.second, timestamp.weekday()])                    # save result_fetch & timestamp to list\n",
        "        except:\n",
        "            viewed_term = re.search(viewed_term_pattern, raw_data[i])[0]\n",
        "            length = len(viewed_term) + 10                                      # 10 because len(' angesehen') == 10\n",
        "            raw_data[i] = raw_data[i][length:]                                  # remove search_term from string\n",
        "            timestamp_str = raw_data[i][:20]                                    # extract timestamp as string\n",
        "            timestamp = datetime.strptime(timestamp_str, '%d.%m.%Y, %H:%M:%S')  # save timestamp as timedate object\n",
        "            viewed.append([result_fetch, timestamp.year, timestamp.month, timestamp.day, timestamp.hour, timestamp.minute, timestamp.second, timestamp.weekday()])                             # save viewed_term & timestamp to list\n",
        "            all_activities.append([result_fetch, timestamp.year, timestamp.month, timestamp.day, timestamp.hour, timestamp.minute, timestamp.second, timestamp.weekday()])                     # save viewed_term & timestamp to list\n",
        "\n",
        "all_activities = pd.DataFrame(all_activities, columns=['SearchTerm', 'Year', 'Month', 'Day', 'Hour', 'Minute', 'Second', 'Weekday'])\n",
        "searches = pd.DataFrame(searches, columns=['SearchTerm', 'Year', 'Month', 'Day', 'Hour', 'Minute', 'Second', 'Weekday'])\n",
        "result_fetches = pd.DataFrame(result_fetches, columns=['SearchTerm', 'Year', 'Month', 'Day', 'Hour', 'Minute', 'Second', 'Weekday'])\n",
        "viewed = pd.DataFrame(viewed, columns=['SearchTerm', 'Year', 'Month', 'Day', 'Hour', 'Minute', 'Second', 'Weekday'])\n",
        "definitions = pd.DataFrame(definitions, columns=['SearchTerm', 'Year', 'Month', 'Day', 'Hour', 'Minute', 'Second', 'Weekday'])"
      ],
      "execution_count": 6,
      "outputs": []
    },
    {
      "cell_type": "markdown",
      "metadata": {
        "id": "sTyR_QR5uPFW"
      },
      "source": [
        "# 3. Daten Analysieren und Visualisieren\n",
        "Im Folgenden wird visuell aufbereitet, wann Aktivitäten stattfanden."
      ]
    },
    {
      "cell_type": "markdown",
      "metadata": {
        "id": "1DP8SjFQimba"
      },
      "source": [
        "Anzahl Aktivitäten nach Jahr, Monat, Uhrzeit und Wochentag:"
      ]
    },
    {
      "cell_type": "code",
      "metadata": {
        "id": "KCZPsn2uBO-5"
      },
      "source": [
        "def count_all_activities(column: str):\n",
        "    all_activities[column].value_counts().sort_index().plot.bar()\n",
        "    plt.title('Activities per ' + column)\n",
        "    plt.xticks(rotation=0)\n",
        "    plt.show()\n",
        "\n",
        "count_all_activities('Year')\n",
        "count_all_activities('Month')\n",
        "count_all_activities('Hour')\n",
        "count_all_activities('Weekday')"
      ],
      "execution_count": null,
      "outputs": []
    },
    {
      "cell_type": "markdown",
      "metadata": {
        "id": "aW0pjO80jDbd"
      },
      "source": [
        "Im Folgenden lassen sich verschiedene Parameter durch eine Heatmap visuell miteinander kombinieren. So lässt sich z.B. nachvollziehen, an welchem Wochentag zu welchen Uhrzeiten Aktivitäten stattfinden."
      ]
    },
    {
      "cell_type": "code",
      "metadata": {
        "id": "kQlf1qiO9Mb9"
      },
      "source": [
        "color_palettes = ['Purples', 'Blues', 'Greens', 'Oranges', 'Reds',\n",
        "                  'YlOrBr', 'YlOrRd', 'OrRd', 'PuRd', 'RdPu', 'BuPu',\n",
        "                  'GnBu', 'PuBu', 'PuBuGn', 'BuGn']\n",
        "\n",
        "def compare_dimensions(dataframe, first_column: str, second_column: str):\n",
        "    if dataframe.shape == (0, 8):   # skip empty dataframes if they occur\n",
        "        return\n",
        "    dimensions = [first_column, second_column]\n",
        "    x = dataframe.copy()\n",
        "    # drop years with very few and/or vague data\n",
        "    x = x[x.Year != 2010]\n",
        "    x = x[x.Year != 2011]\n",
        "    x = x[x.Year != 2012]\n",
        "    x = x[x.Year != 2013]\n",
        "    x = x[x.Year != 2021]     # as 2021 is not over yet, keeping 2021 in the data would distord the result, but you can of course change that\n",
        "    color_palette = random.choice(color_palettes)\n",
        "    counts = x.groupby(dimensions).size().unstack(fill_value=0)\n",
        "    sns.heatmap(counts, cmap=color_palette)\n",
        "    plt.yticks(rotation=0)\n",
        "    plt.xticks(rotation=0)\n",
        "    plt.show()\n",
        "\n",
        "compare_dimensions(all_activities, 'Year', 'Month')\n",
        "compare_dimensions(all_activities, 'Year', 'Hour')\n",
        "compare_dimensions(all_activities, 'Year', 'Weekday')\n",
        "compare_dimensions(all_activities, 'Weekday', 'Hour')\n",
        "compare_dimensions(searches, 'Year', 'Hour')\n",
        "compare_dimensions(result_fetches, 'Year', 'Hour')\n",
        "compare_dimensions(viewed, 'Year', 'Hour')\n",
        "compare_dimensions(definitions, 'Year', 'Hour')"
      ],
      "execution_count": null,
      "outputs": []
    },
    {
      "cell_type": "markdown",
      "metadata": {
        "id": "RXN6b7vLt3BM"
      },
      "source": [
        "Bis hier wurde ausschließlich mit derm Zeitpunkt der Such-Aktivitäten gearbeitet. Wonach genau gesucht und was geöffnet wurde, ist bisher nicht berücksichtigt worden und trotzdem kann man bereits ungefähr einen Tagesablauf mit z.B. Schlafenszeiten anhand der Daten erkennen. Dies lässt bereits einen kleinen Blick auf das Potenzial in Metadaten erkennen."
      ]
    },
    {
      "cell_type": "markdown",
      "metadata": {
        "id": "bDEHB981sKhg"
      },
      "source": [
        "# 4. Auftauchen eines speziellen Begriffs zählen\n",
        "\n",
        "An diesem Beispiel wird gezählt wie oft das Wort \"Python\" aktiv eingegeben wurden. Der Suchbegriff ist natürlich mit jedem anderen ersetzbar."
      ]
    },
    {
      "cell_type": "code",
      "metadata": {
        "id": "7G2loFdOjoIC"
      },
      "source": [
        "all_activities['SearchTerm'].str.count('python').sum()"
      ],
      "execution_count": null,
      "outputs": []
    },
    {
      "cell_type": "markdown",
      "metadata": {
        "id": "HHM_-sXm2fGx"
      },
      "source": [
        "Verschiedene Begriffe zählen und die 20 häufigsten anzeigen."
      ]
    },
    {
      "cell_type": "code",
      "metadata": {
        "id": "q3JsyOiFlaH_"
      },
      "source": [
        "meaningless_terms = ['-', '–', '—', '...', '|', 'in', 'im', 'of', 'the', 'The',\n",
        "                     'mit', 'on', 'to', 'für', 'by', 'der', 'die', 'das', 'Der',\n",
        "                     'Die', 'Das', '&amp;', 'und', 'and', 'von', 'for', 'zu',\n",
        "                     'den', 'Den', 'a']\n",
        "words = []\n",
        "for term in all_activities['SearchTerm']:\n",
        "    words_in_term = term.split(' ')\n",
        "    for word in words_in_term:\n",
        "        words.append(word)\n",
        "words = pd.DataFrame(words, columns=['SearchTerm'])\n",
        "for to_exclude in meaningless_terms:\n",
        "    words = words[words['SearchTerm'] != to_exclude]\n",
        "\n",
        "words.value_counts().head(20)"
      ],
      "execution_count": null,
      "outputs": []
    },
    {
      "cell_type": "markdown",
      "metadata": {
        "id": "PtVmcSkiHRzd"
      },
      "source": [
        "# 5. Was lernen wir nun daraus?\n",
        "Auch ohne in den Inhalt der Suchaktivitäten zu blicken, kann man aus ihrer schieren Masse bereits Schlüsse ziehen. Durch Kombination der Metadaten von sehr vielen Nutzern kann man zu noch weitreichenderen Erkenntnissen gelangen wie z.B. das Verhalten von ganzen Bevölkerungsgruppen analysieren und diese als Zielgruppe für gezielte Werbung ausmachen."
      ]
    },
    {
      "cell_type": "markdown",
      "metadata": {
        "id": "5ECrtPW-Y74B"
      },
      "source": [
        "# 6. Android-Aktivitäten einlesen und aufbereiten\n",
        "Alle Aktivitäten werden zunächst in einer Liste akkumuliert und dann in Pandas.DataFrame umgewandelt zur weiteren Verarbeitung."
      ]
    },
    {
      "cell_type": "code",
      "metadata": {
        "id": "SOyaKkYlhWiE"
      },
      "source": [
        "app_name_pattern_1 = re.compile('.+?(?=Verwendet)')\n",
        "app_name_pattern_2 = re.compile('.+?(?=Angesehen)')\n",
        "timestamp_pattern = re.compile('(0[1-9]|[12][0-9]|3[01])\\.(0[1-9]|1[012])\\.20[0-2][0-9]\\,\\s(2[0-3]|[01]?[0-9]):([0-5]?[0-9]):([0-5]?[0-9])')\n",
        "\n",
        "with android_html_file as file:\n",
        "    android_data = file.read().replace('\\n', '').split(strings_to_remove[8])[2:]\n",
        "\n",
        "android_activities = []\n",
        "\n",
        "for i, e in enumerate(android_data):\n",
        "    android_data[i] = android_data[i]\\\n",
        "        .replace(strings_to_remove[9], '')\\\n",
        "        .replace(strings_to_remove[4], '')\\\n",
        "        .replace(strings_to_remove[5], '')\\\n",
        "        .replace(strings_to_remove[6], '')\\\n",
        "        .replace(strings_to_remove[7], '')\\\n",
        "        .replace(strings_to_remove[10], '')\n",
        "    try:\n",
        "        app_name = re.search(app_name_pattern_1, android_data[i])[0]\n",
        "    except:\n",
        "        app_name = re.search(app_name_pattern_2, android_data[i])[0]\n",
        "    timestamp_str = re.search(timestamp_pattern, android_data[i])[0]\n",
        "    timestamp = datetime.strptime(timestamp_str, time_format)\n",
        "    android_activities.append([app_name, timestamp.year, timestamp.month, timestamp.day, timestamp.hour, timestamp.minute, timestamp.second, timestamp.weekday()])\n",
        "\n",
        "android_activities = pd.DataFrame(android_activities, columns=['AppName', 'Year', 'Month', 'Day', 'Hour', 'Minute', 'Second', 'Weekday'])"
      ],
      "execution_count": 11,
      "outputs": []
    },
    {
      "cell_type": "markdown",
      "metadata": {
        "id": "VnXTeGJoZYKb"
      },
      "source": [
        "# 7. Android-Aktivitäten Analysieren und Visualisieren\n",
        "Im Folgenden wird visuell aufbereitet, wann Android Apps verwendet wurden. Hier lassen sich die Methoden, die auf die Suchaktivitäten angewandt wurden direkt oder mit leichter Anpassung anwenden."
      ]
    },
    {
      "cell_type": "markdown",
      "metadata": {
        "id": "67WatNmo7ash"
      },
      "source": [
        "Anzahl Android-Aktivitäten nach Jahr, Monat, Stunde und Wochentag"
      ]
    },
    {
      "cell_type": "code",
      "metadata": {
        "id": "eT2IBwEK2BAy"
      },
      "source": [
        "def count_android_activities(column: str):\n",
        "    android_activities[column].value_counts().sort_index().plot.bar()\n",
        "    plt.title('Android Activities per ' + column)\n",
        "    plt.xticks(rotation=0)\n",
        "    plt.show()\n",
        "\n",
        "count_android_activities('Year')\n",
        "count_android_activities('Month')\n",
        "count_android_activities('Hour')\n",
        "count_android_activities('Weekday')"
      ],
      "execution_count": null,
      "outputs": []
    },
    {
      "cell_type": "markdown",
      "metadata": {
        "id": "5FZNIIDJ7vfN"
      },
      "source": [
        "Heatmaps zur Visualisierung der Verwendung aller Aktivitäten."
      ]
    },
    {
      "cell_type": "code",
      "metadata": {
        "id": "XYWY06ma2uAt"
      },
      "source": [
        "compare_dimensions(android_activities, 'Month', 'Hour')\n",
        "compare_dimensions(android_activities, 'Weekday', 'Hour')"
      ],
      "execution_count": null,
      "outputs": []
    },
    {
      "cell_type": "markdown",
      "metadata": {
        "id": "DqV1X9dB8MYo"
      },
      "source": [
        "Heatmaps zur Visualisierung der 50 meistverwendeten Apps in Abhängigkeit von Wochentag und Uhrzeit."
      ]
    },
    {
      "cell_type": "code",
      "metadata": {
        "id": "0cES1jKZ-sdP"
      },
      "source": [
        "def compare_dimensions_for_app(dataframe, app_name: str, first_column: str, second_column: str):\n",
        "    if dataframe.shape == (0, 8):\n",
        "        return\n",
        "    dimensions = [first_column, second_column]\n",
        "    x = dataframe.copy()\n",
        "    x = x[x.AppName == app_name]\n",
        "    color_palette = random.choice(color_palettes)\n",
        "    counts = x.groupby(dimensions).size().unstack(fill_value=0)\n",
        "    sns.heatmap(counts, cmap=color_palette)\n",
        "    plt.yticks(rotation=0)\n",
        "    plt.xticks(rotation=0)\n",
        "    plt.title('Usage of ' + app_name)\n",
        "    plt.show()\n",
        "\n",
        "#android_activities['AppName'].value_counts()[:3]\n",
        "\n",
        "for app_name in android_activities['AppName'].value_counts().index[:50]:\n",
        "    compare_dimensions_for_app(android_activities, app_name, 'Weekday', 'Hour')"
      ],
      "execution_count": null,
      "outputs": []
    },
    {
      "cell_type": "markdown",
      "metadata": {
        "id": "g7LVB4yscanQ"
      },
      "source": [
        "# 8. Machine Learning auf Android Aktivitäten anwenden\n",
        "Im Folgenden wird versucht, ob sich anhand von Jahr, Monat und Sekunde der Woche vorhersagen lässt, welche App verwendet wurde. Warum die Einheit \"Sekunde der Woche\"? Eigentlich ganz einfach: Damit lässt sich die Woche sinnvoll unterteilen. Wie man in den vorangegangenen Visualisierungen sehen kann, gibt es unterschiede zwischen den Aktivitäten an den einzelnen Wochentagen und Tageszeiten. Dies lässt sich mit \"Sekunde der Woche\" in einer Dimension zusammenfassen."
      ]
    },
    {
      "cell_type": "code",
      "metadata": {
        "id": "OpYugoJtdJxm"
      },
      "source": [
        "android_activities['SecondOfWeek'] = android_activities['Weekday'] * 86400 + android_activities['Hour'] * 3600 + android_activities['Minute'] * 60 + android_activities['Second']\n",
        "# create new DataFrame with Learnable Data\n",
        "learnable_data = android_activities[['AppName', 'Year', 'Month', 'SecondOfWeek']]\n",
        "# split into training and test data\n",
        "X_train, X_test, y_train, y_test = train_test_split(learnable_data[['Year', 'Month', 'SecondOfWeek']], learnable_data['AppName'])\n",
        "\n",
        "app_usage_counts = learnable_data['AppName'].value_counts()\n",
        "# sort out Apps that are not used often enough to be significant\n",
        "for app, count in app_usage_counts.iteritems():\n",
        "    if count < 200:\n",
        "        learnable_data = learnable_data[learnable_data['AppName'] != app]\n",
        "\n",
        "# learnable_data.to_csv(\"learnable_android_data.csv\", index = False, encoding='utf-8')  # Die Daten lassen sich bei Bedarf auch als csv-Datei exportieren\n",
        "print('Anzahl Apps, für die versucht wird, ihre Verwendung vorherzusagen:', learnable_data['AppName'].value_counts().size)"
      ],
      "execution_count": null,
      "outputs": []
    },
    {
      "cell_type": "markdown",
      "metadata": {
        "id": "JDzYxfef3z0x"
      },
      "source": [
        "Bei meinem eigenen Datensatz ergab sich mit dem `KNeighborsClassifier` bei 39 Apps eine Genauigkeit von `~0.12`, was beträchtlich mehr als `1/39 (= 0.02564102564)` ist, aber zur verlässlichen Vorhersage taugt das offensichtlich nicht. Dass andere Machine Learning Verfahren deutlich erfolgsversprechender sind, ist nach meiner Einschätzung nicht zu erwarten."
      ]
    },
    {
      "cell_type": "code",
      "metadata": {
        "id": "BwWzwwCCaqx6"
      },
      "source": [
        "num_of_apps = learnable_data['AppName'].value_counts().size\n",
        "knn = neighbors.KNeighborsClassifier(n_neighbors = num_of_apps)\n",
        "knn.fit(X_train, y_train)\n",
        "y_pred = knn.predict(X_test)\n",
        "accuracy_score(y_test, y_pred)"
      ],
      "execution_count": null,
      "outputs": []
    },
    {
      "cell_type": "markdown",
      "metadata": {
        "id": "uJhK4P2M9PF4"
      },
      "source": [
        "Auch bei den Android-Aktivitäten kann man aus ihrer schieren Masse bereits Schlüsse ziehen. Beispielsweise lässt sich auf den Heatmaps bzgl. der Häufigkeit der Verwendung einer einzelnen App erkennen, dass einige nur zu bestimmten Tageszeiten verwendet werden, während andere (z.B. WhatsApp bei einem Datensatz) abgesehen von den Schlafzeiten zu allen Tageszeiten verwendet werden."
      ]
    }
  ]
}